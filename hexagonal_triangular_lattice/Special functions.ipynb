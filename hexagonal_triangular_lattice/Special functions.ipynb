{
 "cells": [
  {
   "cell_type": "code",
   "execution_count": 36,
   "id": "1530a721",
   "metadata": {},
   "outputs": [],
   "source": [
    "import ab_fullerene as ab\n",
    "import numpy as np\n",
    "import networkx as nx\n",
    "import scipy.special as sc\n",
    "import matplotlib.pyplot as plt\n",
    "import math as m\n",
    "\n",
    "from mpmath import hyper"
   ]
  },
  {
   "cell_type": "code",
   "execution_count": 37,
   "id": "b60cdfd0-bf40-4134-9b49-fc44306be487",
   "metadata": {},
   "outputs": [
    {
     "data": {
      "text/plain": [
       "1.618033988749895"
      ]
     },
     "execution_count": 37,
     "metadata": {},
     "output_type": "execute_result"
    }
   ],
   "source": [
    "ab.golden"
   ]
  },
  {
   "cell_type": "markdown",
   "id": "e6dde94b",
   "metadata": {},
   "source": [
    "### 2.4 Special functions\n",
    "For $n\\in\\mathbb{N}$, it holds\n",
    "\\begin{align*}\n",
    "J_n(x):=\\sum_{k=0}^\\infty \\frac{(-1)^k}{k!(k+n)!}\\left(\\frac{x}{2} \\right)^{2k+n},\\quad x\\in\\mathbb{C}.\n",
    "\\end{align*}"
   ]
  },
  {
   "cell_type": "code",
   "execution_count": 20,
   "id": "f43d5ed2",
   "metadata": {},
   "outputs": [
    {
     "ename": "NameError",
     "evalue": "name 'm' is not defined",
     "output_type": "error",
     "traceback": [
      "\u001b[0;31m---------------------------------------------------------------------------\u001b[0m",
      "\u001b[0;31mNameError\u001b[0m                                 Traceback (most recent call last)",
      "Cell \u001b[0;32mIn[20], line 16\u001b[0m\n\u001b[1;32m     14\u001b[0m x \u001b[38;5;241m=\u001b[39m np\u001b[38;5;241m.\u001b[39mrandom\u001b[38;5;241m.\u001b[39mrand(\u001b[38;5;241m1\u001b[39m)[\u001b[38;5;241m0\u001b[39m]\u001b[38;5;241m*\u001b[39m\u001b[38;5;241m10\u001b[39m\u001b[38;5;241m+\u001b[39m\u001b[38;5;241m1\u001b[39mj\u001b[38;5;241m*\u001b[39mnp\u001b[38;5;241m.\u001b[39mrandom\u001b[38;5;241m.\u001b[39mrand(\u001b[38;5;241m1\u001b[39m)[\u001b[38;5;241m0\u001b[39m]\u001b[38;5;241m*\u001b[39m\u001b[38;5;241m10\u001b[39m\n\u001b[1;32m     15\u001b[0m n \u001b[38;5;241m=\u001b[39m np\u001b[38;5;241m.\u001b[39mrandom\u001b[38;5;241m.\u001b[39mrandint(\u001b[38;5;241m-\u001b[39m\u001b[38;5;241m10\u001b[39m,\u001b[38;5;241m10\u001b[39m)\n\u001b[0;32m---> 16\u001b[0m \u001b[38;5;28mprint\u001b[39m(\u001b[43mrhs\u001b[49m\u001b[43m(\u001b[49m\u001b[43mn\u001b[49m\u001b[43m,\u001b[49m\u001b[43mx\u001b[49m\u001b[43m)\u001b[49m)\n\u001b[1;32m     17\u001b[0m \u001b[38;5;28mprint\u001b[39m(sc\u001b[38;5;241m.\u001b[39mjv(n,x))\n",
      "Cell \u001b[0;32mIn[20], line 7\u001b[0m, in \u001b[0;36mrhs\u001b[0;34m(n, x)\u001b[0m\n\u001b[1;32m      5\u001b[0m k \u001b[38;5;241m=\u001b[39m \u001b[38;5;241m0\u001b[39m\n\u001b[1;32m      6\u001b[0m \u001b[38;5;28;01mwhile\u001b[39;00m boo:\n\u001b[0;32m----> 7\u001b[0m     summand \u001b[38;5;241m=\u001b[39m (\u001b[38;5;241m-\u001b[39m\u001b[38;5;241m1\u001b[39m)\u001b[38;5;241m*\u001b[39m\u001b[38;5;241m*\u001b[39mk\u001b[38;5;241m/\u001b[39m\u001b[43mab\u001b[49m\u001b[38;5;241;43m.\u001b[39;49m\u001b[43mfactorial\u001b[49m\u001b[43m(\u001b[49m\u001b[43mk\u001b[49m\u001b[43m)\u001b[49m\u001b[38;5;241m/\u001b[39mab\u001b[38;5;241m.\u001b[39mfactorial(k\u001b[38;5;241m+\u001b[39mn)\u001b[38;5;241m*\u001b[39m(x\u001b[38;5;241m/\u001b[39m\u001b[38;5;241m2\u001b[39m)\u001b[38;5;241m*\u001b[39m\u001b[38;5;241m*\u001b[39m(\u001b[38;5;241m2\u001b[39m\u001b[38;5;241m*\u001b[39mk\u001b[38;5;241m+\u001b[39mn)\n\u001b[1;32m      8\u001b[0m     \u001b[38;5;28;01mif\u001b[39;00m \u001b[38;5;28mabs\u001b[39m(summand)\u001b[38;5;241m>\u001b[39m\u001b[38;5;241m0\u001b[39m \u001b[38;5;129;01mand\u001b[39;00m \u001b[38;5;28mabs\u001b[39m(summand)\u001b[38;5;241m<\u001b[39meps:\n\u001b[1;32m      9\u001b[0m         boo \u001b[38;5;241m=\u001b[39m \u001b[38;5;28;01mFalse\u001b[39;00m\n",
      "File \u001b[0;32m~/Documents/codes/python/ab_fullerene.py:32\u001b[0m, in \u001b[0;36mfactorial\u001b[0;34m(k)\u001b[0m\n\u001b[1;32m     30\u001b[0m     \u001b[38;5;28;01mreturn\u001b[39;00m np\u001b[38;5;241m.\u001b[39minf\n\u001b[1;32m     31\u001b[0m \u001b[38;5;28;01melse\u001b[39;00m: \n\u001b[0;32m---> 32\u001b[0m     \u001b[38;5;28;01mreturn\u001b[39;00m \u001b[43mm\u001b[49m\u001b[38;5;241m.\u001b[39mfactorial(k)\n",
      "\u001b[0;31mNameError\u001b[0m: name 'm' is not defined"
     ]
    }
   ],
   "source": [
    "def rhs(n,x):\n",
    "    eps = 10**(-5)\n",
    "    result = 0\n",
    "    boo = True\n",
    "    k = 0\n",
    "    while boo:\n",
    "        summand = (-1)**k/ab.factorial(k)/ab.factorial(k+n)*(x/2)**(2*k+n)\n",
    "        if abs(summand)>0 and abs(summand)<eps:\n",
    "            boo = False\n",
    "        result += summand\n",
    "        k += 1\n",
    "    return result\n",
    "\n",
    "x = np.random.rand(1)[0]*10+1j*np.random.rand(1)[0]*10\n",
    "n = np.random.randint(-10,10)\n",
    "print(rhs(n,x))\n",
    "print(sc.jv(n,x))"
   ]
  },
  {
   "cell_type": "markdown",
   "id": "71e0cdca",
   "metadata": {},
   "source": [
    "For $n\\in\\mathbb{Z}$ and $x\\in\\mathbb{C}$, it holds\n",
    "\\begin{align*}\n",
    "I_n(x) = I_{n+2}(x)+\\frac{2(n+1)}{x}I_{n+1}(x).\n",
    "\\end{align*}"
   ]
  },
  {
   "cell_type": "code",
   "execution_count": 21,
   "id": "cb611daa",
   "metadata": {},
   "outputs": [
    {
     "name": "stdout",
     "output_type": "stream",
     "text": [
      "(-0.06422798710928272+0.023618082874687377j)\n",
      "(-0.06422798710928274+0.023618082874687363j)\n"
     ]
    }
   ],
   "source": [
    "x = np.random.rand(1)[0]*10+1j*np.random.rand(1)[0]*10\n",
    "n = np.random.randint(-10,10)\n",
    "print(sc.iv(n,x))\n",
    "print(sc.iv(n+2,x)+2*(n+1)/x*iv(n+1,x))"
   ]
  }
 ],
 "metadata": {
  "kernelspec": {
   "display_name": "Python 3 (ipykernel)",
   "language": "python",
   "name": "python3"
  },
  "language_info": {
   "codemirror_mode": {
    "name": "ipython",
    "version": 3
   },
   "file_extension": ".py",
   "mimetype": "text/x-python",
   "name": "python",
   "nbconvert_exporter": "python",
   "pygments_lexer": "ipython3",
   "version": "3.11.4"
  }
 },
 "nbformat": 4,
 "nbformat_minor": 5
}
