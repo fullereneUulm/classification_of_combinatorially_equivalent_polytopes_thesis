{
 "cells": [
  {
   "cell_type": "code",
   "execution_count": 4,
   "id": "10299b8a-dbbe-48ea-8227-68cdde9fb5e6",
   "metadata": {},
   "outputs": [],
   "source": [
    "# Packages\n",
    "import numpy as np\n",
    "import matplotlib.pyplot as plt"
   ]
  },
  {
   "cell_type": "markdown",
   "id": "3cc2d8c0-408e-46f5-a6d2-0ffc3114caeb",
   "metadata": {},
   "source": [
    "# Marchenko-Pastur distribution"
   ]
  },
  {
   "cell_type": "markdown",
   "id": "55ec475c-850f-4c13-a9a9-14f1ad7a936c",
   "metadata": {},
   "source": [
    "For $\\lambda\\in (0,\\infty), \\mu\\in\\mathbb{R}$, the pdf of a Marchenko-Pastur pdf is given as:\n",
    "\\begin{align*}\n",
    "f_X(x) = \\frac{\\sqrt{\\left(\\lambda_+ - x\\right) \\left( x- \\lambda_-\\right)}}{2\\pi\\sigma^2\\lambda x} \\mathbb{1}\\lbrace x \\in \\left[\\lambda_ -, \\lambda_+ \\right] \\rbrace,\n",
    "\\end{align*}\n",
    "with $\\lambda_\\pm = \\sigma^2 \\left( 1 \\pm \\sqrt{\\lambda} \\right)^2$."
   ]
  },
  {
   "cell_type": "code",
   "execution_count": 5,
   "id": "90d14b1f-b62c-4c55-a6f4-9a8be4f856ce",
   "metadata": {},
   "outputs": [],
   "source": [
    "# PDF implementation\n",
    "def marchenko_pastur_pdf(x,lam,sig):\n",
    "    y = np.zeros(len(x))\n",
    "    lam_minus = sig**2*(1-np.sqrt(lam))**2\n",
    "    lam_plus = sig**2*(1+np.sqrt(lam))**2\n",
    "    for i in range(len(x)):\n",
    "        if lam_minus <= x[i] and x[i] <= lam_plus:\n",
    "            y[i] += np.sqrt((lam_plus - x[i])*(x[i] - lam_minus))/(2*np.pi*sig**2*lam*x[i])\n",
    "    return y"
   ]
  },
  {
   "cell_type": "code",
   "execution_count": null,
   "id": "bfc11db4-4388-4d2e-93c5-52a3671021d4",
   "metadata": {},
   "outputs": [],
   "source": [
    "# Important example, where lambda = 1\n",
    "lam = 1\n",
    "sig = 2\n",
    "lam_minus = sig**2*(1-np.sqrt(lam))**2\n",
    "lam_plus = sig**2*(1+np.sqrt(lam))**2\n",
    "\n",
    "x = np.linspace(start = lam_minus-0.5, stop = lam_plus+0.5, num = 10**5)\n",
    "y = marchenko_pastur_pdf(x,lam, sig)\n",
    "plt.ylim(0,0.5)\n",
    "plt.plot(x,y)\n",
    "plt.show()"
   ]
  },
  {
   "cell_type": "code",
   "execution_count": null,
   "id": "0f604da5-b234-4084-b5c7-8f6b81571310",
   "metadata": {},
   "outputs": [],
   "source": []
  }
 ],
 "metadata": {
  "kernelspec": {
   "display_name": "Python 3 (ipykernel)",
   "language": "python",
   "name": "python3"
  },
  "language_info": {
   "codemirror_mode": {
    "name": "ipython",
    "version": 3
   },
   "file_extension": ".py",
   "mimetype": "text/x-python",
   "name": "python",
   "nbconvert_exporter": "python",
   "pygments_lexer": "ipython3",
   "version": "3.11.4"
  }
 },
 "nbformat": 4,
 "nbformat_minor": 5
}
